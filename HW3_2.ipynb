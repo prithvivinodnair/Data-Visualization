{
  "nbformat": 4,
  "nbformat_minor": 0,
  "metadata": {
    "colab": {
      "provenance": [],
      "authorship_tag": "ABX9TyNwBW504F/Gu7hZbIVBhYwh",
      "include_colab_link": true
    },
    "kernelspec": {
      "name": "python3",
      "display_name": "Python 3"
    },
    "language_info": {
      "name": "python"
    }
  },
  "cells": [
    {
      "cell_type": "markdown",
      "metadata": {
        "id": "view-in-github",
        "colab_type": "text"
      },
      "source": [
        "<a href=\"https://colab.research.google.com/github/prithvivinodnair/Data-Visualization/blob/main/HW3_2.ipynb\" target=\"_parent\"><img src=\"https://colab.research.google.com/assets/colab-badge.svg\" alt=\"Open In Colab\"/></a>"
      ]
    },
    {
      "cell_type": "code",
      "execution_count": null,
      "metadata": {
        "colab": {
          "base_uri": "https://localhost:8080/"
        },
        "id": "HPtSel60zEDT",
        "outputId": "ca3b6175-d7a6-4481-b24a-a8b5c495ea22"
      },
      "outputs": [
        {
          "output_type": "stream",
          "name": "stdout",
          "text": [
            " HTML file created. You can now download 'attack_types_area_chart.html' from the left panel.\n"
          ]
        }
      ],
      "source": [
        "import pandas as pd\n",
        "import plotly.graph_objects as go\n",
        "from plotly.offline import plot\n",
        "\n",
        "# Load dataset\n",
        "df = pd.read_csv(\"DV.csv\")\n",
        "df = df.dropna(subset=['iyear', 'attacktype1_txt'])\n",
        "\n",
        "# Group and count\n",
        "grouped = df.groupby(['iyear', 'attacktype1_txt']).size().reset_index(name='count')\n",
        "\n",
        "# Pivot for stacked chart\n",
        "pivot_df = grouped.pivot(index='iyear', columns='attacktype1_txt', values='count').fillna(0)\n",
        "pivot_df.reset_index(inplace=True)\n",
        "pivot_df['total'] = pivot_df.drop(columns=['iyear']).sum(axis=1)\n",
        "\n",
        "# Normalize for 100% stacked\n",
        "normalized_df = pivot_df.copy()\n",
        "for col in normalized_df.columns[1:-1]:\n",
        "    normalized_df[col] = normalized_df[col] / normalized_df['total']\n",
        "\n",
        "attack_types = pivot_df.columns[1:-1]\n",
        "\n",
        "# Build figure\n",
        "fig = go.Figure()\n",
        "\n",
        "for attack in attack_types:\n",
        "    fig.add_trace(go.Scatter(\n",
        "        x=pivot_df['iyear'],\n",
        "        y=pivot_df[attack],\n",
        "        mode='lines',\n",
        "        stackgroup='one',\n",
        "        name=attack,\n",
        "        hoverinfo='x+y+name'\n",
        "    ))\n",
        "\n",
        "# Buttons for view toggling\n",
        "fig.update_layout(\n",
        "    title=\"Attack Types Over Time\",\n",
        "    xaxis_title=\"Year\",\n",
        "    yaxis_title=\"Number of Incidents\",\n",
        "    updatemenus=[\n",
        "        dict(\n",
        "            type=\"buttons\",\n",
        "            direction=\"right\",\n",
        "            x=0.5,\n",
        "            xanchor=\"center\",\n",
        "            y=1.15,\n",
        "            yanchor=\"top\",\n",
        "            buttons=[\n",
        "                dict(label=\"Stacked\",\n",
        "                     method=\"update\",\n",
        "                     args=[{\"y\": [pivot_df[attack] for attack in attack_types],\n",
        "                            \"stackgroup\": ['one'] * len(attack_types)},\n",
        "                           {\"yaxis\": {\"title\": \"Number of Incidents\", \"tickformat\": \"\"}}]),\n",
        "                dict(label=\"Grouped\",\n",
        "                     method=\"update\",\n",
        "                     args=[{\"y\": [pivot_df[attack] for attack in attack_types],\n",
        "                            \"stackgroup\": [None] * len(attack_types)},\n",
        "                           {\"yaxis\": {\"title\": \"Number of Incidents\", \"tickformat\": \"\"}}]),\n",
        "                dict(label=\"100% Stacked\",\n",
        "                     method=\"update\",\n",
        "                     args=[{\"y\": [normalized_df[attack] for attack in attack_types],\n",
        "                            \"stackgroup\": ['one'] * len(attack_types)},\n",
        "                           {\"yaxis\": {\"title\": \"Percentage of Total\", \"tickformat\": \".0%\"}}])\n",
        "            ]\n",
        "        )\n",
        "    ]\n",
        ")\n",
        "\n",
        "# Save HTML file\n",
        "plot(fig, filename='attack_types_area_chart.html', auto_open=False)\n",
        "\n",
        "print(\" HTML file created. You can now download 'attack_types_area_chart.html' from the left panel.\")\n"
      ]
    }
  ]
}