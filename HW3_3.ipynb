{
  "nbformat": 4,
  "nbformat_minor": 0,
  "metadata": {
    "colab": {
      "provenance": [],
      "authorship_tag": "ABX9TyMR50slGHa6sPxE5Ltx6L3r",
      "include_colab_link": true
    },
    "kernelspec": {
      "name": "python3",
      "display_name": "Python 3"
    },
    "language_info": {
      "name": "python"
    }
  },
  "cells": [
    {
      "cell_type": "markdown",
      "metadata": {
        "id": "view-in-github",
        "colab_type": "text"
      },
      "source": [
        "<a href=\"https://colab.research.google.com/github/prithvivinodnair/Data-Visualization/blob/main/HW3_3.ipynb\" target=\"_parent\"><img src=\"https://colab.research.google.com/assets/colab-badge.svg\" alt=\"Open In Colab\"/></a>"
      ]
    },
    {
      "cell_type": "code",
      "execution_count": null,
      "metadata": {
        "colab": {
          "base_uri": "https://localhost:8080/"
        },
        "id": "CkyvlTPj0C9I",
        "outputId": "b6a18181-12d1-4537-99d5-3cc275121d38"
      },
      "outputs": [
        {
          "output_type": "stream",
          "name": "stdout",
          "text": [
            " HTML file generated: 'bokeh_target_casualties.html'\n"
          ]
        }
      ],
      "source": [
        "import pandas as pd\n",
        "from bokeh.plotting import figure, output_file, save\n",
        "from bokeh.models import ColumnDataSource, HoverTool, RangeSlider, CustomJS\n",
        "from bokeh.layouts import column\n",
        "from bokeh.palettes import Category20\n",
        "from bokeh.transform import factor_cmap\n",
        "\n",
        "# Load and clean data\n",
        "df = pd.read_csv(\"DV.csv\")\n",
        "df = df[['targtype1_txt', 'nkill', 'nwound', 'iyear']].dropna()\n",
        "df = df[(df['nkill'] >= 0) & (df['nwound'] >= 0)]\n",
        "df['casualties'] = df['nkill'] + df['nwound']\n",
        "df = df[df['casualties'] <= 500]\n",
        "\n",
        "# Get unique target types and full year range\n",
        "target_types = df['targtype1_txt'].unique().tolist()\n",
        "min_year, max_year = int(df['iyear'].min()), int(df['iyear'].max())\n",
        "\n",
        "# Initial data (first 10 years)\n",
        "initial_df = df[(df['iyear'] >= min_year) & (df['iyear'] <= min_year + 10)]\n",
        "source = ColumnDataSource(initial_df)\n",
        "full_source = ColumnDataSource(df)\n",
        "\n",
        "# Figure setup\n",
        "p = figure(title=f\"Target Types and Casualties ({min_year}–{min_year+10})\",\n",
        "           x_axis_label=\"Number Killed\", y_axis_label=\"Number Wounded\",\n",
        "           tools=\"pan,wheel_zoom,reset\")\n",
        "\n",
        "color_map = factor_cmap('targtype1_txt', palette=Category20[20], factors=target_types)\n",
        "\n",
        "# Use scatter instead of circle (Bokeh 3.4+)\n",
        "p.scatter('nkill', 'nwound',\n",
        "          size='casualties',\n",
        "          source=source,\n",
        "          fill_alpha=0.6,\n",
        "          color=color_map,\n",
        "          legend_field='targtype1_txt')\n",
        "\n",
        "# Hover\n",
        "hover = HoverTool(tooltips=[\n",
        "    (\"Target\", \"@targtype1_txt\"),\n",
        "    (\"Killed\", \"@nkill\"),\n",
        "    (\"Wounded\", \"@nwound\"),\n",
        "    (\"Year\", \"@iyear\")\n",
        "])\n",
        "p.add_tools(hover)\n",
        "\n",
        "# Legend\n",
        "p.legend.location = \"top_left\"\n",
        "p.legend.label_text_font_size = \"8pt\"\n",
        "p.legend.click_policy = \"hide\"\n",
        "\n",
        "# RangeSlider for year filtering\n",
        "slider = RangeSlider(start=min_year, end=max_year,\n",
        "                     value=(min_year, min_year + 10),\n",
        "                     step=1, title=\"Year Range\")\n",
        "\n",
        "# JavaScript callback\n",
        "callback = CustomJS(args=dict(source=source,\n",
        "                              full=full_source,\n",
        "                              slider=slider),\n",
        "                    code=\"\"\"\n",
        "    const data = source.data;\n",
        "    const all = full.data;\n",
        "    const [start, end] = slider.value;\n",
        "\n",
        "    let nkill = [], nwound = [], targ = [], cas = [], year = [];\n",
        "\n",
        "    for (let i = 0; i < all['iyear'].length; i++) {\n",
        "        if (all['iyear'][i] >= start && all['iyear'][i] <= end) {\n",
        "            nkill.push(all['nkill'][i]);\n",
        "            nwound.push(all['nwound'][i]);\n",
        "            targ.push(all['targtype1_txt'][i]);\n",
        "            cas.push(all['casualties'][i]);\n",
        "            year.push(all['iyear'][i]);\n",
        "        }\n",
        "    }\n",
        "\n",
        "    data['nkill'] = nkill;\n",
        "    data['nwound'] = nwound;\n",
        "    data['targtype1_txt'] = targ;\n",
        "    data['casualties'] = cas;\n",
        "    data['iyear'] = year;\n",
        "    source.change.emit();\n",
        "\"\"\")\n",
        "\n",
        "slider.js_on_change('value', callback)\n",
        "\n",
        "layout = column(p, slider)\n",
        "\n",
        "# Save to HTML\n",
        "output_file(\"bokeh_target_casualties.html\")\n",
        "save(layout)\n",
        "\n",
        "print(\" HTML file generated: 'bokeh_target_casualties.html'\")\n"
      ]
    }
  ]
}